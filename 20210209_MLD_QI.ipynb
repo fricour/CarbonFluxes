{
 "cells": [
  {
   "cell_type": "markdown",
   "metadata": {},
   "source": [
    "## QI index\n",
    "- To select the proper MLD\n",
    "- https://doi.org/10.1175/JTECH-D-17-0104.1"
   ]
  },
  {
   "cell_type": "code",
   "execution_count": 32,
   "metadata": {},
   "outputs": [],
   "source": [
    "def QI_for_MLD(pres,dens,mld):\n",
    "    pres=pd.Series(pres)\n",
    "    dens=pd.Series(dens)\n",
    "    s1=dens[pres<mld].std(skipna=True)\n",
    "    s2=dens[pres<mld*1.5].std(skipna=True)\n",
    "    QI=1-s1/s2\n",
    "    return QI\n",
    "\n"
   ]
  },
  {
   "cell_type": "code",
   "execution_count": 99,
   "metadata": {},
   "outputs": [
    {
     "data": {
      "text/plain": [
       "0.8090823687927021"
      ]
     },
     "execution_count": 99,
     "metadata": {},
     "output_type": "execute_result"
    }
   ],
   "source": [
    "# e.g.:\n",
    "import pandas as pd\n",
    "h=pd.read_csv('Temp4mld.csv')\n",
    "degree=0.3\n",
    "pres=h.pres\n",
    "dens=h.temp\n",
    "mld=MLD_estimation_Huang(pres, dens)\n",
    "QI=QI_for_MLD(pres,dens,mld)\n"
   ]
  },
  {
   "cell_type": "markdown",
   "metadata": {},
   "source": [
    "## MLD_estimation_Huang et al., 2018\n",
    "- https://journals.ametsoc.org/view/journals/atot/35/3/jtech-d-17-0104.1.xml\n",
    "- The mean depth resolution is ≤2 dbar;"
   ]
  },
  {
   "cell_type": "code",
   "execution_count": 94,
   "metadata": {},
   "outputs": [],
   "source": [
    "def MLD_estimation_Huang(pres, dens,degree=0.3):\n",
    "    Chi=list()\n",
    "    Chi.append(1)\n",
    "    Chi.append(1)\n",
    "    for k in range(2, len(pres)):\n",
    "        pres=pd.Series(pres)\n",
    "        dens=pd.Series(dens)\n",
    "        x=pres[0:k]\n",
    "        delta=dens[0:k].std(skipna=True)\n",
    "        sigma=dens[0:k].max(skipna=True)-dens[0:k].min(skipna=True) #max-min\n",
    "        Chi.append(delta/sigma)\n",
    "    Chi=pd.Series(Chi)\n",
    "    n1=Chi.idxmin(skipna=True)\n",
    "    ratio_down=dens[0:n1+1].std(skipna=True)-dens[0:n1].std(skipna=True)\n",
    "    for n2 in range(n1,2,-1):\n",
    "        ratio_up=dens[0:n2+1].std(skipna=True)-dens[0:n2].std(skipna=True)\n",
    "        if abs(ratio_up/ratio_down) <= degree:\n",
    "            mld=pres[n2]\n",
    "            break\n",
    "    return mld"
   ]
  },
  {
   "cell_type": "code",
   "execution_count": 95,
   "metadata": {},
   "outputs": [
    {
     "data": {
      "text/plain": [
       "188.27000427246102"
      ]
     },
     "execution_count": 95,
     "metadata": {},
     "output_type": "execute_result"
    }
   ],
   "source": [
    "# e.g.:\n",
    "import pandas as pd\n",
    "h=pd.read_csv('Temp4mld.csv')\n",
    "degree=0.3\n",
    "pres=h.pres\n",
    "dens=h.temp\n",
    "MLD_estimation_Huang(pres, dens)"
   ]
  }
 ],
 "metadata": {
  "kernelspec": {
   "display_name": "Python 3",
   "language": "python",
   "name": "python3"
  },
  "language_info": {
   "codemirror_mode": {
    "name": "ipython",
    "version": 3
   },
   "file_extension": ".py",
   "mimetype": "text/x-python",
   "name": "python",
   "nbconvert_exporter": "python",
   "pygments_lexer": "ipython3",
   "version": "3.8.3"
  }
 },
 "nbformat": 4,
 "nbformat_minor": 4
}
