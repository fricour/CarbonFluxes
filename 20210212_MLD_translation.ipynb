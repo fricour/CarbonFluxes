{
 "cells": [
  {
   "attachments": {
    "untitled.jpg": {
     "image/jpeg": "[encoded data removed]"
    }
   },
   "cell_type": "markdown",
   "metadata": {},
   "source": [
    "Data example\n",
    "![untitled.jpg](attachment:untitled.jpg)"
   ]
  },
  {
   "cell_type": "markdown",
   "metadata": {},
   "source": [
    "## QI index\n",
    "To select the proper MLD\n",
    "- https://doi.org/10.1175/JTECH-D-17-0104.1\n"
   ]
  },
  {
   "cell_type": "code",
   "execution_count": 32,
   "metadata": {},
   "outputs": [],
   "source": [
    "def QI_fhaijijielov-patch-1or_MLD(pres,dens,mld):\n",
    "    pres=pd.Series(pres)\n",
    "    dens=pd.Series(dens)\n",
    "    s1=dens[pres<mld].std(skipna=True)\n",
    "    s2=dens[pres<mld*1.5].std(skipna=True)\n",
    "    QI=1-s1/s2\n",
    "    return QI\n",
    "\n"
   ]
  },
  {
   "cell_type": "code",
   "execution_count": 99,
   "metadata": {},
   "outputs": [
    {
     "data": {
      "text/plain": [
       "0.8090823687927021"
      ]
     },
     "execution_count": 99,
     "metadata": {},
     "output_type": "execute_result"
    }
   ],
   "source": [
    "# e.g.:\n",
    "import pandas as pd\n",
    "h=pd.read_csv('Temp4mld.csv')\n",
    "degree=0.3\n",
    "pres=h.pres\n",
    "dens=h.temp\n",
    "mld=MLD_estimation_Huang(pres, dens)\n",
    "QI=QI_for_MLD(pres,dens,mld)\n"
   ]
  },
  {
   "cell_type": "markdown",
   "metadata": {},
   "source": [
    "## MLD_estimation_Huang et al., 2018\n",
    "- https://journals.ametsoc.org/view/journals/atot/35/3/jtech-d-17-0104.1.xml\n",
    "- The mean depth resolution is ≤2 dbar;"
   ]
  },
  {
   "cell_type": "code",
   "execution_count": 2,
   "metadata": {},
   "outputs": [],
   "source": [
    "def MLD_estimation_Huang(pres, dens,degree=0.3):\n",
    "    Chi=list()\n",
    "    Chi.append(1)\n",
    "    Chi.append(1)\n",
    "    for k in range(2, len(pres)):\n",
    "        pres=pd.Series(pres)\n",
    "        dens=pd.Series(dens)\n",
    "        x=pres[0:k]\n",
    "        delta=dens[0:k].std(skipna=True)\n",
    "        sigma=dens[0:k].max(skipna=True)-dens[0:k].min(skipna=True) #max-min\n",
    "        Chi.append(delta/sigma)\n",
    "    Chi=pd.Series(Chi)\n",
    "    n1=Chi.idxmin(skipna=True)\n",
    "    ratio_down=dens[0:n1+1].std(skipna=True)-dens[0:n1].std(skipna=True)\n",
    "    for n2 in range(n1,2,-1):\n",
    "        ratio_up=dens[0:n2+1].std(skipna=True)-dens[0:n2].std(skipna=True)\n",
    "        if abs(ratio_up/ratio_down) <= degree:\n",
    "            mld=pres[n2]\n",
    "            break\n",
    "    return mld"
   ]
  },
  {
   "cell_type": "code",
   "execution_count": 4,
   "metadata": {},
   "outputs": [
    {
     "data": {
      "text/plain": [
       "188.27000427246102"
      ]
     },
     "execution_count": 4,
     "metadata": {},
     "output_type": "execute_result"
    }
   ],
   "source": [
    "# e.g.:\n",
    "import pandas as pd\n",
    "h=pd.read_csv('Temp4mld.csv')\n",
    "degree=0.3\n",
    "pres=h.pres\n",
    "temp=h.temp\n",
    "MLD_estimation_Huang(pres, temp)"
   ]
  },
  {
   "cell_type": "markdown",
   "metadata": {},
   "source": [
    "## MLD_estimation_MLD_estimation_Holte_Talley., 2009"
   ]
  },
  {
   "cell_type": "code",
   "execution_count": 85,
   "metadata": {},
   "outputs": [],
   "source": [
    "def data_to_pdseries(pres,prof):\n",
    "    import numpy as np\n",
    "    pres=np.array(pres)\n",
    "    prof=np.array(prof)\n",
    "    pres=pres[(~np.isnan(pres)) & (~np.isnan(prof))]\n",
    "    prof=prof[(~np.isnan(pres)) & (~np.isnan(prof))]\n",
    "    return [pres,prof]"
   ]
  },
  {
   "cell_type": "markdown",
   "metadata": {},
   "source": [
    "### 1. de Boyer Montégut et al. (2004)\n",
    "\n",
    "0.2 ◦C and 0.03 kg m−3 are used as the threshold difference criteria and the Argo measurement closest to 10 dbar as the surface reference value."
   ]
  },
  {
   "cell_type": "code",
   "execution_count": 108,
   "metadata": {},
   "outputs": [],
   "source": [
    "def MLD_Threshold(pres,prof,pres_ref=10,threshold=-0.2):\n",
    "    ## default is temp:de Boyer Montégut et al.(2004)\n",
    "    ## for potential density, MLD_Threshold(pres,dens,10,0.03)\n",
    "    ## for temperature, MLD_Threshold(pres,temp,10,-0.2) ### ATTENTION:threshold is 'minus 0.2' for temperature\n",
    "    import numpy as np\n",
    "    [pres,prof]=data_to_pdseries(pres,prof)\n",
    "    if pres[-1]<=pres_ref:\n",
    "        mld=nan;\n",
    "        return mld\n",
    "    data_ref=np.interp(pres_ref,pres, prof)\n",
    "    data_mld=data_ref+threshold\n",
    "    mld_i=np.argmin(abs(prof-data_mld))\n",
    "    mld=np.interp(data_mld,prof[mld_i-1:mld_i+1],pres[mld_i-1:mld_i+1])\n",
    "    # print(pres[mld_i],mld)\n",
    "    return mld,data_ref,data_mld\n"
   ]
  },
  {
   "cell_type": "code",
   "execution_count": 124,
   "metadata": {},
   "outputs": [],
   "source": [
    "# e.g.:\n",
    "import numpy as np\n",
    "h=pd.read_csv('eg_data_good.csv')\n",
    "pres=h.pres\n",
    "prof=h.temp\n",
    "[pres,prof]=data_to_pdseries(pres,prof)\n",
    "mld_T_0p2,data_ref,data_mld=MLD_Threshold(pres,prof,pres_ref=10,threshold=-0.2)"
   ]
  },
  {
   "cell_type": "code",
   "execution_count": 118,
   "metadata": {},
   "outputs": [
    {
     "data": {
      "text/plain": [
       "Text(0.5, 1.0, 'Temp')"
      ]
     },
     "execution_count": 118,
     "metadata": {},
     "output_type": "execute_result"
    },
    {
     "data": {
      "image/png": "[encoded data removed]",
      "text/plain": [
       "<Figure size 432x288 with 1 Axes>"
      ]
     },
     "metadata": {
      "needs_background": "light"
     },
     "output_type": "display_data"
    }
   ],
   "source": [
    "## plot\n",
    "%matplotlib inline\n",
    "import matplotlib.pyplot as plt\n",
    "plt.plot(prof[pres<500], -pres[pres<500], '.', color='black');\n",
    "plt.plot(data_ref,-10,'*',color='red')\n",
    "plt.plot(data_mld,-mld_T_0p2,'*',color='blue')\n",
    "plt.title('Temp')"
   ]
  },
  {
   "cell_type": "code",
   "execution_count": 125,
   "metadata": {},
   "outputs": [],
   "source": [
    "# e.g.:\n",
    "import numpy as np\n",
    "h=pd.read_csv('eg_data_good.csv')\n",
    "pres=h.pres\n",
    "prof=h.dens\n",
    "[pres,prof]=data_to_pdseries(pres,prof)\n",
    "mld_D_0p03,data_ref,data_mld=MLD_Threshold(pres,prof,pres_ref=10,threshold=0.03)"
   ]
  },
  {
   "cell_type": "code",
   "execution_count": 120,
   "metadata": {},
   "outputs": [
    {
     "data": {
      "text/plain": [
       "Text(0.5, 1.0, 'Dens')"
      ]
     },
     "execution_count": 120,
     "metadata": {},
     "output_type": "execute_result"
    },
    {
     "data": {
      "image/png": "[encoded data removed]",
      "text/plain": [
       "<Figure size 432x288 with 1 Axes>"
      ]
     },
     "metadata": {
      "needs_background": "light"
     },
     "output_type": "display_data"
    }
   ],
   "source": [
    "## plot\n",
    "%matplotlib inline\n",
    "import matplotlib.pyplot as plt\n",
    "plt.plot(prof[pres<500], -pres[pres<500], '.', color='black');\n",
    "plt.plot(data_ref,-10,'*',color='red')\n",
    "plt.plot(data_mld,-mld_D_0p03,'*',color='blue')\n",
    "plt.title('Dens')"
   ]
  },
  {
   "cell_type": "markdown",
   "metadata": {},
   "source": [
    "## 2. Dong et al. (2008) \n",
    "\n",
    "The algorithm uses a potential density gradient criterion of 0.0005 kg m −3 dbar −1 . It uses a temperature gradient criterion of 0.005 ◦ C dbar −1\n",
    "## but here I changed the density criterion same as temp, because 0.0005 is too shallow."
   ]
  },
  {
   "cell_type": "code",
   "execution_count": 191,
   "metadata": {},
   "outputs": [],
   "source": [
    "def MLD_Grad_Dong2008(pres,prof,threshold=0.005):\n",
    "    import numpy as np\n",
    "    [pres,prof]=data_to_pdseries(pres,prof)\n",
    "    grad0=abs(np.gradient(prof, pres))\n",
    "    from scipy.ndimage import median_filter as medfilter\n",
    "    gradiant=medfilter(grad0,3)\n",
    "    mld_i=np.where(gradiant>threshold)[0][0]\n",
    "    mld=pres[mld_i]\n",
    "    return mld,mld_i,grad0,grad"
   ]
  },
  {
   "cell_type": "code",
   "execution_count": 193,
   "metadata": {},
   "outputs": [],
   "source": [
    "h=pd.read_csv('eg_data_good.csv')\n",
    "pres=h.pres\n",
    "prof=h.temp\n",
    "mld_grad_T,mld_i,grad0,grad=MLD_Grad_Dong2008(pres,prof,threshold=0.005)"
   ]
  },
  {
   "cell_type": "code",
   "execution_count": 194,
   "metadata": {},
   "outputs": [
    {
     "data": {
      "text/plain": [
       "Text(0.5, 1.0, 'grad_temp')"
      ]
     },
     "execution_count": 194,
     "metadata": {},
     "output_type": "execute_result"
    },
    {
     "data": {
      "image/png": "[encoded data removed]",
      "text/plain": [
       "<Figure size 432x288 with 1 Axes>"
      ]
     },
     "metadata": {
      "needs_background": "light"
     },
     "output_type": "display_data"
    }
   ],
   "source": [
    "## plot\n",
    "%matplotlib inline\n",
    "import matplotlib.pyplot as plt\n",
    "plt.plot(grad0[pres<500], -pres[pres<500], '.', color='black');\n",
    "plt.plot(grad[pres<500], -pres[pres<500], '.', color='blue');\n",
    "plt.plot(grad[mld_i], -pres[mld_i], 'o', color='red');\n",
    "plt.title('grad_temp')\n"
   ]
  },
  {
   "cell_type": "code",
   "execution_count": 195,
   "metadata": {},
   "outputs": [
    {
     "data": {
      "text/plain": [
       "Text(0.5, 1.0, 'Temp')"
      ]
     },
     "execution_count": 195,
     "metadata": {},
     "output_type": "execute_result"
    },
    {
     "data": {
      "image/png": "[encoded data removed]",
      "text/plain": [
       "<Figure size 432x288 with 1 Axes>"
      ]
     },
     "metadata": {
      "needs_background": "light"
     },
     "output_type": "display_data"
    }
   ],
   "source": [
    "## plot\n",
    "%matplotlib inline\n",
    "import matplotlib.pyplot as plt\n",
    "plt.plot(prof[pres<500], -pres[pres<500], '.', color='black');\n",
    "plt.plot(prof[mld_i], -mld_grad_T, 'o', color='red');\n",
    "plt.title('Temp')"
   ]
  },
  {
   "cell_type": "code",
   "execution_count": 200,
   "metadata": {},
   "outputs": [],
   "source": [
    "h=pd.read_csv('eg_data_good.csv')\n",
    "pres=h.pres\n",
    "prof=h.dens\n",
    "mld_grad_D,mld_i,grad0,grad=MLD_Grad_Dong2008(pres,prof,threshold=0.005)"
   ]
  },
  {
   "cell_type": "code",
   "execution_count": 201,
   "metadata": {},
   "outputs": [
    {
     "data": {
      "text/plain": [
       "Text(0.5, 1.0, 'grad_dens')"
      ]
     },
     "execution_count": 201,
     "metadata": {},
     "output_type": "execute_result"
    },
    {
     "data": {
      "image/png": "[encoded data removed]",
      "text/plain": [
       "<Figure size 432x288 with 1 Axes>"
      ]
     },
     "metadata": {
      "needs_background": "light"
     },
     "output_type": "display_data"
    }
   ],
   "source": [
    "## plot\n",
    "%matplotlib inline\n",
    "import matplotlib.pyplot as plt\n",
    "plt.plot(grad0[pres<500], -pres[pres<500], '.', color='black');\n",
    "plt.plot(grad[pres<500], -pres[pres<500], '.', color='blue');\n",
    "plt.plot(grad[mld_i], -pres[mld_i], 'o', color='red');\n",
    "plt.title('grad_dens')"
   ]
  },
  {
   "cell_type": "code",
   "execution_count": 202,
   "metadata": {},
   "outputs": [
    {
     "data": {
      "text/plain": [
       "Text(0.5, 1.0, 'Dens')"
      ]
     },
     "execution_count": 202,
     "metadata": {},
     "output_type": "execute_result"
    },
    {
     "data": {
      "image/png": "[encoded data removed]",
      "text/plain": [
       "<Figure size 432x288 with 1 Axes>"
      ]
     },
     "metadata": {
      "needs_background": "light"
     },
     "output_type": "display_data"
    }
   ],
   "source": [
    "## plot\n",
    "%matplotlib inline\n",
    "import matplotlib.pyplot as plt\n",
    "plt.plot(prof[pres<500], -pres[pres<500], '.', color='black');\n",
    "plt.plot(prof[mld_i], -mld_grad_D, 'o', color='red');\n",
    "plt.title('Dens')"
   ]
  },
  {
   "attachments": {
    "image-2.png": {
     "image/png": "[encoded data removed]"
    },
    "image.png": {
     "image/png": "[encoded data removed]"
    }
   },
   "cell_type": "markdown",
   "metadata": {},
   "source": [
    "## 3. Straight line fit algorithm\n",
    "Error_T = 10^ −10\n",
    "\n",
    "It finds the first depth where the error exceeds the tolerance\n",
    "![image.png](attachment:image.png)\n",
    "![image-2.png](attachment:image-2.png)\n",
    "### 10^-10 is too small, here use Temp_err=10^-4 Pdens_err=10^-6   "
   ]
  },
  {
   "cell_type": "code",
   "execution_count": 269,
   "metadata": {},
   "outputs": [],
   "source": [
    "def MLD_line_fit(pres,prof,err_threshold=10**(-4)):\n",
    "    from sklearn import linear_model\n",
    "    from sklearn.metrics import mean_squared_error as MSE\n",
    "    regr = linear_model.LinearRegression()\n",
    "    mse=np.zeros(pres.shape)\n",
    "    for i in range(3,len(prof)):\n",
    "        pres_i=pres[0:i]\n",
    "        prof_i=prof[0:i]\n",
    "        model=np.polyfit(pres_i,prof_i, 1)\n",
    "        predict = np.poly1d(model)\n",
    "        prof_pred = predict(pres_i)\n",
    "        mse[i]=MSE(prof_i, prof_pred)\n",
    "    from scipy.ndimage import median_filter as medfilter\n",
    "    mse=medfilter(mse,3)\n",
    "    mse=medfilter(mse,3)\n",
    "    mld_i=np.where(mse>err_threshold)[0][0]\n",
    "    mld=pres[mld_i]\n",
    "    return mld,mld_i,mse\n"
   ]
  },
  {
   "cell_type": "code",
   "execution_count": 292,
   "metadata": {},
   "outputs": [
    {
     "data": {
      "text/plain": [
       "210.154998779297"
      ]
     },
     "execution_count": 292,
     "metadata": {},
     "output_type": "execute_result"
    }
   ],
   "source": [
    "## Temp\n",
    "h=pd.read_csv('eg_data_good.csv')\n",
    "pres=h.pres\n",
    "prof=h.temp\n",
    "mld,mld_i,mse=MLD_line_fit(pres,prof,err_threshold=10**(-4))\n",
    "mld"
   ]
  },
  {
   "cell_type": "code",
   "execution_count": 279,
   "metadata": {},
   "outputs": [
    {
     "data": {
      "text/plain": [
       "Text(0.5, 1.0, 'MSE')"
      ]
     },
     "execution_count": 279,
     "metadata": {},
     "output_type": "execute_result"
    },
    {
     "data": {
      "image/png": "[encoded data removed]",
      "text/plain": [
       "<Figure size 432x288 with 1 Axes>"
      ]
     },
     "metadata": {
      "needs_background": "light"
     },
     "output_type": "display_data"
    }
   ],
   "source": [
    "## plot\n",
    "%matplotlib inline\n",
    "import matplotlib.pyplot as plt\n",
    "plt.plot(mse[pres<250], -pres[pres<250], '.', color='black');\n",
    "plt.plot(mse[mld_i], -pres[mld_i], 'o', color='red');\n",
    "plt.title('MSE')\n"
   ]
  },
  {
   "cell_type": "code",
   "execution_count": 277,
   "metadata": {
    "scrolled": true
   },
   "outputs": [
    {
     "data": {
      "text/plain": [
       "Text(0.5, 1.0, 'MSE_grad')"
      ]
     },
     "execution_count": 277,
     "metadata": {},
     "output_type": "execute_result"
    },
    {
     "data": {
      "image/png": "[encoded data removed]",
      "text/plain": [
       "<Figure size 432x288 with 1 Axes>"
      ]
     },
     "metadata": {
      "needs_background": "light"
     },
     "output_type": "display_data"
    }
   ],
   "source": [
    "grad=abs(np.gradient(mse, pres))\n",
    "## plot\n",
    "%matplotlib inline\n",
    "import matplotlib.pyplot as plt\n",
    "plt.plot(grad[pres<350], -pres[pres<350], '.', color='black');\n",
    "plt.title('MSE_grad')"
   ]
  },
  {
   "cell_type": "code",
   "execution_count": 291,
   "metadata": {},
   "outputs": [
    {
     "data": {
      "text/plain": [
       "214.154998779297"
      ]
     },
     "execution_count": 291,
     "metadata": {},
     "output_type": "execute_result"
    }
   ],
   "source": [
    "## Pdens\n",
    "h=pd.read_csv('eg_data_good.csv')\n",
    "pres=h.pres\n",
    "prof=h.dens\n",
    "mld,mld_i,mse=MLD_line_fit(pres,prof,err_threshold=10**(-6))\n",
    "mld"
   ]
  },
  {
   "cell_type": "code",
   "execution_count": 289,
   "metadata": {},
   "outputs": [
    {
     "data": {
      "text/plain": [
       "Text(0.5, 1.0, 'MSE')"
      ]
     },
     "execution_count": 289,
     "metadata": {},
     "output_type": "execute_result"
    },
    {
     "data": {
      "image/png": "[encoded data removed]",
      "text/plain": [
       "<Figure size 432x288 with 1 Axes>"
      ]
     },
     "metadata": {
      "needs_background": "light"
     },
     "output_type": "display_data"
    }
   ],
   "source": [
    "## plot\n",
    "%matplotlib inline\n",
    "import matplotlib.pyplot as plt\n",
    "plt.plot(mse[pres<250], -pres[pres<250], '.', color='black');\n",
    "plt.plot(mse[mld_i], -pres[mld_i], 'o', color='red');\n",
    "plt.title('MSE')\n"
   ]
  },
  {
   "cell_type": "code",
   "execution_count": 290,
   "metadata": {
    "scrolled": false
   },
   "outputs": [
    {
     "data": {
      "text/plain": [
       "Text(0.5, 1.0, 'MSE_grad')"
      ]
     },
     "execution_count": 290,
     "metadata": {},
     "output_type": "execute_result"
    },
    {
     "data": {
      "image/png": "[encoded data removed]",
      "text/plain": [
       "<Figure size 432x288 with 1 Axes>"
      ]
     },
     "metadata": {
      "needs_background": "light"
     },
     "output_type": "display_data"
    }
   ],
   "source": [
    "grad=abs(np.gradient(mse, pres))\n",
    "## plot\n",
    "%matplotlib inline\n",
    "import matplotlib.pyplot as plt\n",
    "plt.plot(grad[pres<350], -pres[pres<350], '.', color='black');\n",
    "plt.title('MSE_grad')"
   ]
  },
  {
   "cell_type": "code",
   "execution_count": null,
   "metadata": {},
   "outputs": [],
   "source": []
  },
  {
   "cell_type": "code",
   "execution_count": 1,
   "metadata": {},
   "outputs": [],
   "source": []
  },
  {
   "cell_type": "code",
   "execution_count": null,
   "metadata": {},
   "outputs": [],
   "source": []
  },
  {
   "cell_type": "code",
   "execution_count": 1,
   "metadata": {},
   "outputs": [],
   "source": []
  },
  {
   "cell_type": "markdown",
   "metadata": {},
   "source": [
    "## MLD_estimation_MLD_estimation_Lorbacher et al, 2006"
   ]
  },
  {
   "cell_type": "code",
   "execution_count": 17,
   "metadata": {},
   "outputs": [],
   "source": [
    "def MLD_estimation_Lorbacher(z,t):# z--depth t--temp\n",
    "    # gradients; resolution; 30m variance\n",
    "    [gt, res, sig30]=gradients(z,t)\n",
    "    # hit bottom if no significant variability is in the profile\n",
    "    if (max(sig30)<0.02):\n",
    "        mld=min(z) \n",
    "        return mld\n",
    "    # check the range in which the mld can be found\n",
    "    imld0=first_guess(z,t,abs(gt),sig30)\n",
    "    # find level closest to mld\n",
    "    [imld,ipo]=mld_0level(z,t,imld0,gt,res,sig30)\n",
    "    # interpolation between levels\n",
    "    mld=interpol(z,t,gt,imld,ipo)\n",
    "    return mld\n"
   ]
  },
  {
   "cell_type": "code",
   "execution_count": 2,
   "metadata": {},
   "outputs": [],
   "source": [
    "# ################     FUNCTION  gradients   #######################\n",
    "def gradients(z,t): #[gt, res, sig30]=gradients(z,t)\n",
    "    smoo=5 # gradients are calculated over at least 5m for a smoother estimate\n",
    "    gt=np.zeros(len(z))*np.nan\n",
    "    sig30=np.zeros(len(z))*np.nan\n",
    "    res=np.zeros(len(z))*np.nan\n",
    "    ldim=len(z) \n",
    "    gt[ldim-1]=0\n",
    "    sig30[ldim-1]=0\n",
    "    for i in range(0,ldim-1):\n",
    "    # find level smoo meter below current level for gradients\n",
    "        i2=min(ldim,i+1)\n",
    "        while ( (i2<ldim-1) and (z[i]-z[i2]<=smoo)):\n",
    "            i2=i2+1\n",
    "        # gradients\n",
    "        gt[i]=max(-0.6,min(0.6,(t[i]-t[i2])/(z[i]-z[i2])))\n",
    "        # resolution\n",
    "        res[i]=max(0.1,z[i]-z[min(ldim,i+1)])\n",
    "        # find level 30m below current level for sig30\n",
    "        if (z[i]-z[ldim-1]> 30.0):\n",
    "            cdt=(z[i]-z[i+1:ldim]-30)>0\n",
    "            i2=cdt.index(True)+i\n",
    "\n",
    "        if (z[i]-z[ldim-1]<=30.0):\n",
    "            i2=ldim\n",
    "        #  standard deviation over 30m below current level, sig30\n",
    "        sig30[i]=np.std(t[i:i2])\n",
    "\n",
    "        if (z[i]-z[ldim-1]<30.0):\n",
    "            sig30[i]=0.0\n",
    "    res[ldim-1]=res[ldim-2]\n",
    "    return [gt, res, sig30]"
   ]
  },
  {
   "cell_type": "code",
   "execution_count": null,
   "metadata": {},
   "outputs": [],
   "source": [
    "# ################     FUNCTION  first_guess   #######################\n",
    "import numpy as np\n",
    "def first_guess(z,t,gt,sig30):\n",
    "    import numpy as np\n",
    "    # find first level that exceeds a significant gradient & sig30\n",
    "    cndt=(gt-0.25*max(gt)>0) & (sig30>0.02)\n",
    "    if len(cndt[cndt])>0:\n",
    "        imld=cndt.tolist().index(True)\n",
    "    else:\n",
    "        imld=len(z)\n",
    "        imld=max([imld,3])\n",
    "    return imld"
   ]
  },
  {
   "cell_type": "code",
   "execution_count": null,
   "metadata": {},
   "outputs": [],
   "source": [
    "# ################     FUNCTION  mld_0level   #######################\n",
    "def mld_0level(z,t,imld0,gt,res,sig30):# [imld, ipo] = mld_0level(z,t,imld0,gt,res,sig30)\n",
    "    #   find local extreme in curvature with some  boundary conditions\n",
    "    #   and decide how to interpolate\n",
    "\n",
    "    # gradient threshold\n",
    "    sgtl=max([0.002,min(0.005,np.std(gt[0:imld0]))])  # low resolution\n",
    "    sgth=max([0.004,min(0.01,np.std(gt[0:imld0]))])   # high resolution\n",
    "    ct=np.zeros(len(z))*np.nan\n",
    "    # curvature\n",
    "    ct[0]=0\n",
    "\n",
    "    for i in range(1,len(gt)):\n",
    "        ct[i]=(gt[i]-gt[i-1])/(z[i-1]-z[i])\n",
    "    # find local extreme in ct\n",
    "    i=0 \n",
    "    imld=0\n",
    "    while (imld==0 and (i<imld0-1)):\n",
    "\n",
    "        cdt_1= (gt[i]>=0) and (ct[i]>0)and (ct[i]>max( ct[[max(0,i-1),i]]))#local maxim\n",
    "        cdt_2= (-gt[i]>0)and(-ct[i]>0) and (-ct[i]> max(-ct[[max(0,i-1),i]]))#local minim\n",
    "        cdt_3=sig30[i]-0.02>0 # signifcant t-cline\n",
    "        cdt_4= (res[i]<6.0) and (abs(gt[i])>sgth)                   #signifcant gradient\n",
    "        cdt_5=(res[i]>=6.0)and (abs(gt[i])>sgtl)                 #signifcant gradient\n",
    "        if  cdt_1 or cdt_2 and cdt_3 and cdt_4 or cdt_5:\n",
    "               imld=i#local extreme found\n",
    "        i=i+1\n",
    "\n",
    "\n",
    "    # no local extreme in gradient change => take first level > 0.7 maxgt\n",
    "    if (imld==0):\n",
    "        cdx=abs(gt[0:imld0])>0.7*max(abs(gt[0:imld0]))\n",
    "        imld=cdx.tolist().index(True)\n",
    "\n",
    "    # check for interpolation\n",
    "    ipo=0 \n",
    "    ldim=len(z)\n",
    "    resi=max(res[max(0,imld-1):min(ldim,imld+2)])\n",
    "    # linear interpolation possible in the interval [z(imld-1) z(imld)]\n",
    "    if ( imld!=1 and imld<ldim ):\n",
    "        ipo=2\n",
    "        if ( resi < 6 ):\n",
    "            # high resolution always linear interpolation\n",
    "            ipo=2\n",
    "        else:\n",
    "            # low resolution check if exponential interpolation possible\n",
    "            if ( imld+3 <= ldim ):\n",
    "                ipo=1\n",
    "                if (gt[imld+1]/gt[imld]>=1.0):\n",
    "                    ipo=2             # NO, not convex\n",
    "                if (ipo==2 and abs(gt[imld+2]/gt[imld+1]-0.5)<0.5 and gt[imld-1]/gt[imld]<0.1 ):\n",
    "                    imld=imld+1 \n",
    "                    ipo=1  # but convex for imld+1\n",
    "                if (abs(gt[imld+1]/gt[imld]-0.875)<0.125 and gt[imld-1]/gt[imld]>0.1):\n",
    "                    ipo=2      # doubtful gradients\n",
    "                if  (gt(imld+1)/gt(imld)<=0.0):\n",
    "                    ipo=2            # change of sign\n",
    "        if (resi<6):\n",
    "            sgt=sgth \n",
    "        if (resi>=6):\n",
    "            sgt=sgtl \n",
    "        if (ipo==2 and ( abs(gt[imld-1]/gt[imld]-0.05)<0.05 or abs(gt[imld-1])<sgt ) ) :\n",
    "            imld=imld+1\n",
    "    return [imld,ipo]"
   ]
  },
  {
   "cell_type": "code",
   "execution_count": null,
   "metadata": {},
   "outputs": [],
   "source": [
    "# ################     FUNCTION  interpol   #######################\n",
    "# interpolation in the interval [z[imld-1] z[imld]]\n",
    "def interpol(z,t,gt,imld,ipo):\n",
    "    #  interpolation by exponential fit f(z) = C+A*exp(B*z)\n",
    "    if (ipo==1):\n",
    "        for i in range(0,2):\n",
    "            x[i]=(abs(z[imld+i-1])+abs(z[imld+i]))/2\n",
    "            dy[i]=log(sign(t[imld]-t[imld+1])*gt[imld+i-1])\n",
    "        s1=sum(x[0:2]*dy[0:2]) \n",
    "        s2=sum(x[0:2])*sum(dy[0:2])/2\n",
    "        if (s1-s2==0) :\n",
    "            return\n",
    "        s3=sum(x[0:2]**2)      \n",
    "        s4=sum(x[0:2])*sum(x[0:2])/2\n",
    "        if (s3-s4==0):\n",
    "            return\n",
    "        b=(s1-s2)/(s3-s4) \n",
    "        a=sum(dy[0:2])/2-b*sum(x[0:2])/2 \n",
    "        B=-b\n",
    "        if (a<=0):\n",
    "            return\n",
    "        A=exp(a)/B\n",
    "        C=1/(2+1)*(sum(t[imld:imld+3])-sum(A*exp(-abs(z[imld:imld+3])*B)) )\n",
    "        x1[0:3]=t[imld:imld+3]\n",
    "        x2[0:3]=C+A*exp(-B*abs(z[imld:imld+3]))\n",
    "        ans=corrcoef(x1,x2) \n",
    "        r=ans[1,2]\n",
    "        tref=mean(t[1:max(0,imld-2)])\n",
    "        tx=mean(x2)+std(x2)/std(x1)*r*(tref-mean(x1))\n",
    "        mld=-abs(log((tx-C)/A)/(-B))\n",
    "\n",
    "        # empirical correction based on observational errors\n",
    "        # it shifts the mld further up from the level-imld\n",
    "        # it reflects the fact that the exponential profile below the mld does\n",
    "        #    break down near the mld, it continues with a smaller gradient\n",
    "        #    (a smooth transition zone)\n",
    "        if ( mld-z[imld] <= 0.4*(z[imld-1]-z[imld]) ):\n",
    "             mld=z[imld]+2.5*(mld-z[imld])-0.1*(z[imld-1]-z[imld])\n",
    "\n",
    "        # interpo overshoot -> empirical correction based on observational errors\n",
    "        # (better than setting mld onto a level)\n",
    "        if (mld>=z[imld-1]):\n",
    "            if( gt[imld-1]<0.01*(z[imld-1]-z[imld]) ):\n",
    "                dd=0.5*(1-min(1,gt(imld+2)/gt[imld]))-0.25\n",
    "            else:\n",
    "                dd=10*gt[imld-1]\n",
    "\n",
    "            if(gt(imld+2)/gt[imld]>1.0):\n",
    "                mld=z[imld-1]-0.25*(z[imld-1]-z[imld])\n",
    "            else:\n",
    "                mld=z[imld-1]+dd*(z[imld-1]-z[imld])\n",
    "\n",
    "    # linear  interpolation\n",
    "    if (ipo==2):\n",
    "        if ( gt[imld]/gt[imld-1] > 1.0 ):\n",
    "            dx=(t[imld-1]-t[imld])/((gt[imld]+gt[imld-1])/2)\n",
    "        else:\n",
    "       # linear interpolation would overshoot: find a dT to go down from imld-1\n",
    "           dt=max( [0.01,abs(  diff(t[1:imld-1].T)) ] )\n",
    "           dx=sign(t[imld]-t[imld-1])*dt/gt[imld-1]-(z[imld]-z[imld-1])\n",
    "\n",
    "       # empirical correction based on observational errors\n",
    "        if (1/4*(z[imld-1]-z[imld])<dx and dx<3/4*(z[imld-1]-z[imld])):\n",
    "            dx=dx+(z[imld-1]-z[imld])/5\n",
    "\n",
    "        mld=z[imld]+dx\n",
    "    # interpolation must be within [z[imld-1], z(imld+1)]\n",
    "    # interpolation must be within [z[imld-1], z(imld+1)]\n",
    "    if (mld > z[max(1,imld-1)]):    \n",
    "        mld=z[max(1,imld-1)]  \n",
    "    if (mld < z[min(ldim,imld+1)]):\n",
    "        mld=z[min(ldim,imld+1)]\n",
    "    return mld"
   ]
  },
  {
   "cell_type": "code",
   "execution_count": 18,
   "metadata": {},
   "outputs": [
    {
     "name": "stdout",
     "output_type": "stream",
     "text": [
      "4.57000017166138\n"
     ]
    }
   ],
   "source": [
    "import numpy as np\n",
    "# e.g.:\n",
    "import pandas as pd\n",
    "h=pd.read_csv('Temp4mld.csv')\n",
    "pres=h.pres\n",
    "temp=h.temp\n",
    "mld=MLD_estimation_Lorbacher(pres, temp)\n",
    "print(mld)"
   ]
  },
  {
   "attachments": {},
   "cell_type": "markdown",
   "metadata": {},
   "source": [
    "### Original Matlab code:\n",
    "z=Temp4mld.pres;\n",
    "\n",
    "t=Temp4mld.temp;\n",
    "\n",
    "[mld, qe, imf] = MLD_GRADIANT(z,t)% \n",
    "\n",
    "%% mld = 4.57000017166138"
   ]
  },
  {
   "cell_type": "code",
   "execution_count": null,
   "metadata": {},
   "outputs": [],
   "source": []
  }
 ],
 "metadata": {
  "kernelspec": {
   "display_name": "Python 3",
   "language": "python",
   "name": "python3"
  },
  "language_info": {
   "codemirror_mode": {
    "name": "ipython",
    "version": 3
   },
   "file_extension": ".py",
   "mimetype": "text/x-python",
   "name": "python",
   "nbconvert_exporter": "python",
   "pygments_lexer": "ipython3",
   "version": "3.8.3"
  }
 },
 "nbformat": 4,
 "nbformat_minor": 4
}
